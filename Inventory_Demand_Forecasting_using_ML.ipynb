{
  "nbformat": 4,
  "nbformat_minor": 0,
  "metadata": {
    "colab": {
      "provenance": []
    },
    "kernelspec": {
      "name": "python3",
      "display_name": "Python 3"
    },
    "language_info": {
      "name": "python"
    }
  },
  "cells": [
    {
      "cell_type": "code",
      "execution_count": null,
      "metadata": {
        "id": "9ZUAPQi1_qL8"
      },
      "outputs": [],
      "source": [
        "import numpy as np\n",
        "import pandas as pd\n",
        "from sklearn.model_selection import train_test_split\n",
        "from sklearn.preprocessing import labelEncoder , StandardScalar\n",
        "from sklearn import metrics\n",
        "from sklearn.svm import SVC\n",
        "from xgboost import XGBRegressor\n",
        "from sklearn.linear_model import LinearRegression, Lasso, Ridge\n",
        "from sklearn.ensemble import RandomForestRegressor\n",
        "from sklearn.metrics import mean_absolute_error as mae\n",
        "import warnings\n",
        "warnings.filterwarnings('ignore')"
      ]
    },
    {
      "cell_type": "code",
      "source": [
        "SD = pd.read_csv(\"\")\n",
        "SD.head()"
      ],
      "metadata": {
        "id": "qnMbHkk2BLLJ"
      },
      "execution_count": null,
      "outputs": []
    },
    {
      "cell_type": "code",
      "source": [
        "SD.shape"
      ],
      "metadata": {
        "id": "53cgWYWzBMj8"
      },
      "execution_count": null,
      "outputs": []
    },
    {
      "cell_type": "code",
      "source": [
        "SD.info()"
      ],
      "metadata": {
        "id": "5XEMWl4hBMnO"
      },
      "execution_count": null,
      "outputs": []
    },
    {
      "cell_type": "code",
      "source": [
        "## there is no null value\n",
        "##########FEATURE ENGINEERING###########"
      ],
      "metadata": {
        "id": "CXZl6Yy9BMqe"
      },
      "execution_count": null,
      "outputs": []
    },
    {
      "cell_type": "code",
      "source": [
        "parts = SD['date'].str.split('-',n=3,expand=True)\n",
        "SD['year']=parts[0].astype('int')\n",
        "SD['month']=parts[1].astype('int')\n",
        "SD['day']=parts[2].astype('int')\n",
        "SD.head()"
      ],
      "metadata": {
        "id": "Bhue-xvOBMuD"
      },
      "execution_count": null,
      "outputs": []
    },
    {
      "cell_type": "code",
      "source": [
        "from datetime import datetime import calendar\n",
        "def\n",
        "weekend_or_weekday(year,month,day):\n",
        "d=datetime(year,month,day)\n",
        "if\n",
        "d.weekday()>4:\n",
        "return 1\n",
        "else:\n",
        "  return 0\n",
        "\n",
        "SD['weekend'] = SD.apply(lambda x:weekend_or_weekday(x['year'],x['month'],x['day']),axis=1)\n",
        "SD.head()"
      ],
      "metadata": {
        "id": "SevBzz29BLOT"
      },
      "execution_count": null,
      "outputs": []
    },
    {
      "cell_type": "code",
      "source": [
        "from datetime import date\n",
        "import holiday\n",
        "def\n",
        "is_holiday(x):\n",
        "india_holidays = holidays.country_holidays('IN')\n",
        "if\n",
        "india_holidays.get(x):\n",
        "  return 1\n",
        "else:\n",
        "  return 0\n",
        "  SD['holidays']=SD['date'].apply(is_holiday)\n",
        "  SD.head()"
      ],
      "metadata": {
        "id": "XIO7WabYDcLV"
      },
      "execution_count": null,
      "outputs": []
    },
    {
      "cell_type": "code",
      "source": [],
      "metadata": {
        "id": "aRMyeVOkDcO8"
      },
      "execution_count": null,
      "outputs": []
    },
    {
      "cell_type": "code",
      "source": [
        "from datetime import datetime\n",
        "def\n",
        "which_day(year,month,day)\n",
        "   d= datetime(year,month,day)\n",
        "   return\n",
        "   d.weekday()\n",
        "   SD['weekday'] = SD.apply(lamda x:\n",
        "                            which_day(x['year'], x['month'],x['day']),axis=1)\n",
        "   SD.head()\n"
      ],
      "metadata": {
        "id": "dE90KFWOBLRx"
      },
      "execution_count": null,
      "outputs": []
    },
    {
      "cell_type": "code",
      "source": [
        "SD.drop('date',axis=1,inplace=True)\n"
      ],
      "metadata": {
        "id": "JAv7YH5tBLVG"
      },
      "execution_count": null,
      "outputs": []
    },
    {
      "cell_type": "code",
      "source": [
        "#### EDA ####"
      ],
      "metadata": {
        "id": "vCY3w2h0HY4E"
      },
      "execution_count": null,
      "outputs": []
    },
    {
      "cell_type": "code",
      "source": [
        "SD['store'].nunique()\n",
        "SD['item'].nunique()\n"
      ],
      "metadata": {
        "id": "QRUeQjF8HY7L"
      },
      "execution_count": null,
      "outputs": []
    },
    {
      "cell_type": "code",
      "source": [
        "SD['weekend']=SD['weekday'].apply(lambda x: 1 if x>=5 else 0)\n",
        "features = ['store','weekday','year','month','weekend','holidays']\n",
        "plt.subplots(figsize=(20,10))\n",
        "for i , col in enumerate(features):\n",
        "  plt.subplot(2,3,i+1)\n",
        "  SD.groupby(col).mean()['sales'].plot.bar()\n",
        "  plt.show()"
      ],
      "metadata": {
        "id": "LXDefhSxHY-b"
      },
      "execution_count": null,
      "outputs": []
    },
    {
      "cell_type": "code",
      "source": [
        "plt.figure(figsize(10,5))\n",
        "SD.groupby('day').mean()['sales'].plot()\n",
        "plt.show()"
      ],
      "metadata": {
        "id": "vR2XizWDHZCA"
      },
      "execution_count": null,
      "outputs": []
    },
    {
      "cell_type": "code",
      "source": [
        "##simple moving avarage for 30 days\n",
        "plt.figure(figsize=(15,10))\n",
        "window_size = 30\n",
        "data=SD[SD['year']==2013]\n",
        "windows = data['sales'].rolling(window_size)\n",
        "sma = sma[window_size-1:]\n",
        "data['sales'].plot()\n",
        "sms.plt()\n",
        "plt.legend()\n",
        "plt.show()\n"
      ],
      "metadata": {
        "id": "eSzg4GrJHZH_"
      },
      "execution_count": null,
      "outputs": []
    },
    {
      "cell_type": "code",
      "source": [
        "plt.subplots(figsize=(12,5))\n",
        "plt.subplot(1,2,1)\n",
        "sb.displot(SD['sales'])\n",
        "plt.subplot(1,2,2)\n",
        "sb.boxplot(SD['sales'])\n",
        "plt.show()"
      ],
      "metadata": {
        "id": "UuAaYVNOHZLa"
      },
      "execution_count": null,
      "outputs": []
    },
    {
      "cell_type": "code",
      "source": [
        "plt.figure(figsize=(10,10))\n",
        "sb.heatmap(SD.corr()>0.8, annot=True , cbar=false)\n",
        "plt.show()\n"
      ],
      "metadata": {
        "id": "Q_BZE5EsHZUM"
      },
      "execution_count": null,
      "outputs": []
    },
    {
      "cell_type": "code",
      "source": [
        "SD = SD[SD['sales']<140]####removed outlier"
      ],
      "metadata": {
        "id": "rBceRociMCdX"
      },
      "execution_count": null,
      "outputs": []
    },
    {
      "cell_type": "code",
      "source": [
        "### MODEL TRAINING ##"
      ],
      "metadata": {
        "id": "u497n0toMCgS"
      },
      "execution_count": null,
      "outputs": []
    },
    {
      "cell_type": "code",
      "source": [
        "X = SD.drop(['sales','year'],axis=1)\n",
        "target = SD['sales'].values\n",
        "X_train,X_test,Y_train,Y_test = train_test_split(x,target,test_size=0.05,random_state=22)\n",
        "X_train.shape\n",
        "X_test.shape"
      ],
      "metadata": {
        "id": "5IBJbWHHMCkO"
      },
      "execution_count": null,
      "outputs": []
    },
    {
      "cell_type": "code",
      "source": [
        "###### NORMALISING"
      ],
      "metadata": {
        "id": "3i2XaSzZMCnu"
      },
      "execution_count": null,
      "outputs": []
    },
    {
      "cell_type": "code",
      "source": [
        "scaler = StandardScaler()\n",
        "X_train = scaler.fit_transform(X_train)\n",
        "X_test = scaler.transform(X_test)\n"
      ],
      "metadata": {
        "id": "UpFDlEOyMCxJ"
      },
      "execution_count": null,
      "outputs": []
    },
    {
      "cell_type": "code",
      "source": [
        "models = [LinearRegression(), XGBRegressor(), Lasso(), Ridge()]\n",
        "for i in range(4):\n",
        "  model[i] = fit(X_train,Y_train)\n",
        "  print(f'{model[i]}: ')\n",
        "  train_preds = models[i].predict(X_train)\n",
        "  print('Training Error : ', mae(Y_train,train_preds))\n",
        "  test_preds = models[i].predict(X_test)\n",
        "  print('Validation Error : ', mae(Y_test,test_preds))\n",
        "  print()"
      ],
      "metadata": {
        "id": "O1pIebFcOAzz"
      },
      "execution_count": null,
      "outputs": []
    }
  ]
}